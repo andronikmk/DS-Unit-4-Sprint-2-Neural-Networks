{
  "nbformat": 4,
  "nbformat_minor": 0,
  "metadata": {
    "colab": {
      "name": "LS_DS_433_Keras_Assignment.ipynb",
      "provenance": []
    },
    "kernelspec": {
      "display_name": "U4-S2-NN (Python3)",
      "language": "python",
      "name": "u4-s1-nlp"
    },
    "language_info": {
      "codemirror_mode": {
        "name": "ipython",
        "version": 3
      },
      "file_extension": ".py",
      "mimetype": "text/x-python",
      "name": "python",
      "nbconvert_exporter": "python",
      "pygments_lexer": "ipython3",
      "version": "3.7.0"
    }
  },
  "cells": [
    {
      "cell_type": "markdown",
      "metadata": {
        "colab_type": "text",
        "id": "pBQsZEJmubLs"
      },
      "source": [
        "<img align=\"left\" src=\"https://lever-client-logos.s3.amazonaws.com/864372b1-534c-480e-acd5-9711f850815c-1524247202159.png\" width=200>\n",
        "<br></br>\n",
        "\n",
        "# Neural Network Framework (Keras)\n",
        "\n",
        "## *Data Science Unit 4 Sprint 2 Assignment 3*\n",
        "\n",
        "## Use the Keras Library to build a Multi-Layer Perceptron Model on the Boston Housing dataset\n",
        "\n",
        "- [x] The Boston Housing dataset comes with the Keras library so use Keras to import it into your notebook. \n",
        "- [x] Normalize the data (all features should have roughly the same scale)\n",
        "- [x] Import the type of model and layers that you will need from Keras.\n",
        "- [x] Instantiate a model object and use `model.add()` to add layers to your model\n",
        "- [x] Since this is a regression model you will have a single output node in the final layer.\n",
        "- [ ] Use activation functions that are appropriate for this task\n",
        "- [x] Compile your model\n",
        "- Fit your model and report its accuracy in terms of Mean Squared Error\n",
        "- [x] Use the history object that is returned from model.fit to make graphs of the model's loss or train/validation accuracies by epoch. \n",
        "- Run this same data through a linear regression model. Which achieves higher accuracy?\n",
        "- Do a little bit of feature engineering and see how that affects your neural network model. (you will need to change your model to accept more inputs)\n",
        "- After feature engineering, which model sees a greater accuracy boost due to the new features?"
      ]
    },
    {
      "cell_type": "markdown",
      "metadata": {
        "id": "SEpTl-vcrhQL",
        "colab_type": "text"
      },
      "source": [
        "### Part 1"
      ]
    },
    {
      "cell_type": "code",
      "metadata": {
        "colab_type": "code",
        "id": "8NLTAR87uYJ-",
        "colab": {}
      },
      "source": [
        "##### Your Code Here #####\n",
        "import numpy as np\n",
        "import pandas as pd\n",
        "from tensorflow import keras\n",
        "from tensorflow.keras.datasets import boston_housing\n",
        "\n",
        "# Scikit-learn\n",
        "from sklearn.linear_model import LinearRegression\n",
        "from sklearn.metrics import accuracy_score, mean_squared_error\n",
        "from sklearn.preprocessing import Normalizer\n",
        "\n",
        "# import a model type, Sequential\n",
        "# import types of layers\n",
        "from tensorflow.keras.models import Sequential\n",
        "from tensorflow.keras.layers import Dense\n",
        "from tensorflow.keras.layers import Flatten\n",
        "import tensorflow as tf\n",
        "\n",
        "import matplotlib.pyplot as plt\n",
        "\n",
        "np.random.seed(812)"
      ],
      "execution_count": 0,
      "outputs": []
    },
    {
      "cell_type": "code",
      "metadata": {
        "id": "I07lewnirhQU",
        "colab_type": "code",
        "colab": {}
      },
      "source": [
        "# Load the data and split\n",
        "(X_train, y_train), (X_test, y_test) = boston_housing.load_data()"
      ],
      "execution_count": 0,
      "outputs": []
    },
    {
      "cell_type": "code",
      "metadata": {
        "id": "XQf6-t2ErhQh",
        "colab_type": "code",
        "colab": {
          "base_uri": "https://localhost:8080/",
          "height": 88
        },
        "outputId": "e3f4124a-d2a1-420a-b936-7b89ca4d6bec"
      },
      "source": [
        "# shape\n",
        "print(X_train.shape)\n",
        "print(y_train.shape)\n",
        "print(X_test.shape)\n",
        "print(y_test.shape)"
      ],
      "execution_count": 96,
      "outputs": [
        {
          "output_type": "stream",
          "text": [
            "(404, 13)\n",
            "(404,)\n",
            "(102, 13)\n",
            "(102,)\n"
          ],
          "name": "stdout"
        }
      ]
    },
    {
      "cell_type": "code",
      "metadata": {
        "id": "eL6LITDPWkEA",
        "colab_type": "code",
        "colab": {}
      },
      "source": [
        "# casting int to float and feature normalization\n",
        "# X_train = X_train.astype('float32') / 255.\n",
        "# X_test = X_test.astype('float32') / 255.\n",
        "\n",
        "# Normalize data with sckitlearn\n",
        "normalizer = Normalizer()\n",
        "\n",
        "X_train = normalizer.fit_transform(X_train)\n",
        "X_test = normalizer.transform(X_train)"
      ],
      "execution_count": 0,
      "outputs": []
    },
    {
      "cell_type": "code",
      "metadata": {
        "id": "zjjTdJutrhQy",
        "colab_type": "code",
        "colab": {}
      },
      "source": [
        "# instantiate Sequential model\n",
        "model = Sequential()"
      ],
      "execution_count": 0,
      "outputs": []
    },
    {
      "cell_type": "code",
      "metadata": {
        "id": "bx7gfoQ4rhQ3",
        "colab_type": "code",
        "colab": {
          "base_uri": "https://localhost:8080/",
          "height": 232
        },
        "outputId": "da7cf5fb-7813-4ded-e17c-047bae3d2ff2"
      },
      "source": [
        "# Add layers to NN\n",
        "model.add(keras.layers.Dense(1, input_dim=13, activation='relu')) # INPUT LAYER\n",
        "model.add(keras.layers.Dense(1)) # OUTPUT LAYER\n",
        "model.compile(loss='mean_squared_error', optimizer='adam')\n",
        "model.summary()"
      ],
      "execution_count": 99,
      "outputs": [
        {
          "output_type": "stream",
          "text": [
            "Model: \"sequential_7\"\n",
            "_________________________________________________________________\n",
            "Layer (type)                 Output Shape              Param #   \n",
            "=================================================================\n",
            "dense_24 (Dense)             (None, 1)                 14        \n",
            "_________________________________________________________________\n",
            "dense_25 (Dense)             (None, 1)                 2         \n",
            "=================================================================\n",
            "Total params: 16\n",
            "Trainable params: 16\n",
            "Non-trainable params: 0\n",
            "_________________________________________________________________\n"
          ],
          "name": "stdout"
        }
      ]
    },
    {
      "cell_type": "code",
      "metadata": {
        "id": "7wj9HgWYWIEd",
        "colab_type": "code",
        "colab": {
          "base_uri": "https://localhost:8080/",
          "height": 1000
        },
        "outputId": "1fd27a90-f447-4265-9b49-795916611080"
      },
      "source": [
        "# Fit model\n",
        "history = model.fit(X_train, y_train, epochs=epochs, validation_split=0.2)"
      ],
      "execution_count": 100,
      "outputs": [
        {
          "output_type": "stream",
          "text": [
            "Train on 323 samples, validate on 81 samples\n",
            "Epoch 1/150\n",
            "323/323 [==============================] - 0s 765us/sample - loss: 577.6769 - val_loss: 649.1602\n",
            "Epoch 2/150\n",
            "323/323 [==============================] - 0s 55us/sample - loss: 576.3674 - val_loss: 647.7874\n",
            "Epoch 3/150\n",
            "323/323 [==============================] - 0s 56us/sample - loss: 575.1050 - val_loss: 646.4650\n",
            "Epoch 4/150\n",
            "323/323 [==============================] - 0s 48us/sample - loss: 573.8627 - val_loss: 645.1745\n",
            "Epoch 5/150\n",
            "323/323 [==============================] - 0s 61us/sample - loss: 572.6853 - val_loss: 643.9208\n",
            "Epoch 6/150\n",
            "323/323 [==============================] - 0s 60us/sample - loss: 571.5475 - val_loss: 642.7098\n",
            "Epoch 7/150\n",
            "323/323 [==============================] - 0s 58us/sample - loss: 570.4222 - val_loss: 641.5459\n",
            "Epoch 8/150\n",
            "323/323 [==============================] - 0s 59us/sample - loss: 569.3537 - val_loss: 640.4089\n",
            "Epoch 9/150\n",
            "323/323 [==============================] - 0s 51us/sample - loss: 568.3601 - val_loss: 639.4347\n",
            "Epoch 10/150\n",
            "323/323 [==============================] - 0s 52us/sample - loss: 567.5800 - val_loss: 638.7083\n",
            "Epoch 11/150\n",
            "323/323 [==============================] - 0s 50us/sample - loss: 566.9342 - val_loss: 638.0957\n",
            "Epoch 12/150\n",
            "323/323 [==============================] - 0s 53us/sample - loss: 566.3792 - val_loss: 637.5577\n",
            "Epoch 13/150\n",
            "323/323 [==============================] - 0s 52us/sample - loss: 565.8815 - val_loss: 637.0391\n",
            "Epoch 14/150\n",
            "323/323 [==============================] - 0s 66us/sample - loss: 565.4038 - val_loss: 636.5228\n",
            "Epoch 15/150\n",
            "323/323 [==============================] - 0s 57us/sample - loss: 564.9173 - val_loss: 636.0159\n",
            "Epoch 16/150\n",
            "323/323 [==============================] - 0s 65us/sample - loss: 564.4405 - val_loss: 635.4923\n",
            "Epoch 17/150\n",
            "323/323 [==============================] - 0s 56us/sample - loss: 563.9487 - val_loss: 634.9759\n",
            "Epoch 18/150\n",
            "323/323 [==============================] - 0s 59us/sample - loss: 563.4651 - val_loss: 634.4662\n",
            "Epoch 19/150\n",
            "323/323 [==============================] - 0s 58us/sample - loss: 562.9917 - val_loss: 633.9602\n",
            "Epoch 20/150\n",
            "323/323 [==============================] - 0s 64us/sample - loss: 562.5144 - val_loss: 633.4449\n",
            "Epoch 21/150\n",
            "323/323 [==============================] - 0s 55us/sample - loss: 562.0359 - val_loss: 632.9303\n",
            "Epoch 22/150\n",
            "323/323 [==============================] - 0s 51us/sample - loss: 561.5498 - val_loss: 632.4173\n",
            "Epoch 23/150\n",
            "323/323 [==============================] - 0s 53us/sample - loss: 561.0765 - val_loss: 631.9082\n",
            "Epoch 24/150\n",
            "323/323 [==============================] - 0s 51us/sample - loss: 560.6009 - val_loss: 631.4002\n",
            "Epoch 25/150\n",
            "323/323 [==============================] - 0s 62us/sample - loss: 560.1226 - val_loss: 630.8930\n",
            "Epoch 26/150\n",
            "323/323 [==============================] - 0s 52us/sample - loss: 559.6467 - val_loss: 630.3774\n",
            "Epoch 27/150\n",
            "323/323 [==============================] - 0s 53us/sample - loss: 559.1666 - val_loss: 629.8553\n",
            "Epoch 28/150\n",
            "323/323 [==============================] - 0s 57us/sample - loss: 558.6791 - val_loss: 629.3411\n",
            "Epoch 29/150\n",
            "323/323 [==============================] - 0s 47us/sample - loss: 558.1999 - val_loss: 628.8215\n",
            "Epoch 30/150\n",
            "323/323 [==============================] - 0s 52us/sample - loss: 557.7133 - val_loss: 628.3071\n",
            "Epoch 31/150\n",
            "323/323 [==============================] - 0s 52us/sample - loss: 557.2381 - val_loss: 627.7964\n",
            "Epoch 32/150\n",
            "323/323 [==============================] - 0s 59us/sample - loss: 556.7591 - val_loss: 627.2720\n",
            "Epoch 33/150\n",
            "323/323 [==============================] - 0s 52us/sample - loss: 556.2732 - val_loss: 626.7683\n",
            "Epoch 34/150\n",
            "323/323 [==============================] - 0s 48us/sample - loss: 555.8052 - val_loss: 626.2501\n",
            "Epoch 35/150\n",
            "323/323 [==============================] - 0s 55us/sample - loss: 555.3190 - val_loss: 625.7477\n",
            "Epoch 36/150\n",
            "323/323 [==============================] - 0s 59us/sample - loss: 554.8515 - val_loss: 625.2459\n",
            "Epoch 37/150\n",
            "323/323 [==============================] - 0s 57us/sample - loss: 554.3802 - val_loss: 624.7304\n",
            "Epoch 38/150\n",
            "323/323 [==============================] - 0s 51us/sample - loss: 553.9087 - val_loss: 624.2255\n",
            "Epoch 39/150\n",
            "323/323 [==============================] - 0s 54us/sample - loss: 553.4346 - val_loss: 623.7154\n",
            "Epoch 40/150\n",
            "323/323 [==============================] - 0s 50us/sample - loss: 552.9569 - val_loss: 623.2054\n",
            "Epoch 41/150\n",
            "323/323 [==============================] - 0s 51us/sample - loss: 552.4869 - val_loss: 622.7058\n",
            "Epoch 42/150\n",
            "323/323 [==============================] - 0s 50us/sample - loss: 552.0209 - val_loss: 622.2027\n",
            "Epoch 43/150\n",
            "323/323 [==============================] - 0s 53us/sample - loss: 551.5481 - val_loss: 621.7006\n",
            "Epoch 44/150\n",
            "323/323 [==============================] - 0s 61us/sample - loss: 551.0758 - val_loss: 621.1941\n",
            "Epoch 45/150\n",
            "323/323 [==============================] - 0s 50us/sample - loss: 550.6029 - val_loss: 620.6909\n",
            "Epoch 46/150\n",
            "323/323 [==============================] - 0s 53us/sample - loss: 550.1411 - val_loss: 620.1909\n",
            "Epoch 47/150\n",
            "323/323 [==============================] - 0s 53us/sample - loss: 549.6742 - val_loss: 619.6927\n",
            "Epoch 48/150\n",
            "323/323 [==============================] - 0s 51us/sample - loss: 549.2055 - val_loss: 619.1890\n",
            "Epoch 49/150\n",
            "323/323 [==============================] - 0s 52us/sample - loss: 548.7422 - val_loss: 618.6915\n",
            "Epoch 50/150\n",
            "323/323 [==============================] - 0s 54us/sample - loss: 548.2770 - val_loss: 618.1983\n",
            "Epoch 51/150\n",
            "323/323 [==============================] - 0s 51us/sample - loss: 547.8157 - val_loss: 617.6942\n",
            "Epoch 52/150\n",
            "323/323 [==============================] - 0s 70us/sample - loss: 547.3407 - val_loss: 617.1883\n",
            "Epoch 53/150\n",
            "323/323 [==============================] - 0s 52us/sample - loss: 546.8678 - val_loss: 616.6869\n",
            "Epoch 54/150\n",
            "323/323 [==============================] - 0s 50us/sample - loss: 546.3964 - val_loss: 616.1606\n",
            "Epoch 55/150\n",
            "323/323 [==============================] - 0s 50us/sample - loss: 545.9156 - val_loss: 615.6535\n",
            "Epoch 56/150\n",
            "323/323 [==============================] - 0s 49us/sample - loss: 545.4473 - val_loss: 615.1638\n",
            "Epoch 57/150\n",
            "323/323 [==============================] - 0s 54us/sample - loss: 544.9868 - val_loss: 614.6732\n",
            "Epoch 58/150\n",
            "323/323 [==============================] - 0s 53us/sample - loss: 544.5263 - val_loss: 614.1705\n",
            "Epoch 59/150\n",
            "323/323 [==============================] - 0s 54us/sample - loss: 544.0602 - val_loss: 613.6756\n",
            "Epoch 60/150\n",
            "323/323 [==============================] - 0s 51us/sample - loss: 543.5992 - val_loss: 613.1861\n",
            "Epoch 61/150\n",
            "323/323 [==============================] - 0s 50us/sample - loss: 543.1491 - val_loss: 612.6938\n",
            "Epoch 62/150\n",
            "323/323 [==============================] - 0s 53us/sample - loss: 542.6904 - val_loss: 612.2096\n",
            "Epoch 63/150\n",
            "323/323 [==============================] - 0s 55us/sample - loss: 542.2402 - val_loss: 611.7239\n",
            "Epoch 64/150\n",
            "323/323 [==============================] - 0s 53us/sample - loss: 541.7753 - val_loss: 611.2242\n",
            "Epoch 65/150\n",
            "323/323 [==============================] - 0s 54us/sample - loss: 541.3136 - val_loss: 610.7245\n",
            "Epoch 66/150\n",
            "323/323 [==============================] - 0s 46us/sample - loss: 540.8560 - val_loss: 610.2331\n",
            "Epoch 67/150\n",
            "323/323 [==============================] - 0s 51us/sample - loss: 540.3975 - val_loss: 609.7505\n",
            "Epoch 68/150\n",
            "323/323 [==============================] - 0s 54us/sample - loss: 539.9498 - val_loss: 609.2686\n",
            "Epoch 69/150\n",
            "323/323 [==============================] - 0s 56us/sample - loss: 539.4964 - val_loss: 608.7770\n",
            "Epoch 70/150\n",
            "323/323 [==============================] - 0s 51us/sample - loss: 539.0376 - val_loss: 608.2838\n",
            "Epoch 71/150\n",
            "323/323 [==============================] - 0s 52us/sample - loss: 538.5801 - val_loss: 607.8026\n",
            "Epoch 72/150\n",
            "323/323 [==============================] - 0s 52us/sample - loss: 538.1243 - val_loss: 607.3156\n",
            "Epoch 73/150\n",
            "323/323 [==============================] - 0s 54us/sample - loss: 537.6740 - val_loss: 606.8287\n",
            "Epoch 74/150\n",
            "323/323 [==============================] - 0s 51us/sample - loss: 537.2273 - val_loss: 606.3408\n",
            "Epoch 75/150\n",
            "323/323 [==============================] - 0s 48us/sample - loss: 536.7654 - val_loss: 605.8485\n",
            "Epoch 76/150\n",
            "323/323 [==============================] - 0s 52us/sample - loss: 536.3056 - val_loss: 605.3495\n",
            "Epoch 77/150\n",
            "323/323 [==============================] - 0s 61us/sample - loss: 535.8478 - val_loss: 604.8594\n",
            "Epoch 78/150\n",
            "323/323 [==============================] - 0s 52us/sample - loss: 535.3898 - val_loss: 604.3784\n",
            "Epoch 79/150\n",
            "323/323 [==============================] - 0s 64us/sample - loss: 534.9431 - val_loss: 603.8914\n",
            "Epoch 80/150\n",
            "323/323 [==============================] - 0s 53us/sample - loss: 534.4850 - val_loss: 603.4036\n",
            "Epoch 81/150\n",
            "323/323 [==============================] - 0s 47us/sample - loss: 534.0277 - val_loss: 602.9056\n",
            "Epoch 82/150\n",
            "323/323 [==============================] - 0s 50us/sample - loss: 533.5613 - val_loss: 602.4045\n",
            "Epoch 83/150\n",
            "323/323 [==============================] - 0s 51us/sample - loss: 533.1044 - val_loss: 601.9160\n",
            "Epoch 84/150\n",
            "323/323 [==============================] - 0s 52us/sample - loss: 532.6486 - val_loss: 601.4317\n",
            "Epoch 85/150\n",
            "323/323 [==============================] - 0s 53us/sample - loss: 532.1974 - val_loss: 600.9427\n",
            "Epoch 86/150\n",
            "323/323 [==============================] - 0s 55us/sample - loss: 531.7413 - val_loss: 600.4575\n",
            "Epoch 87/150\n",
            "323/323 [==============================] - 0s 54us/sample - loss: 531.2910 - val_loss: 599.9701\n",
            "Epoch 88/150\n",
            "323/323 [==============================] - 0s 56us/sample - loss: 530.8375 - val_loss: 599.4839\n",
            "Epoch 89/150\n",
            "323/323 [==============================] - 0s 50us/sample - loss: 530.3867 - val_loss: 598.9973\n",
            "Epoch 90/150\n",
            "323/323 [==============================] - 0s 52us/sample - loss: 529.9299 - val_loss: 598.5034\n",
            "Epoch 91/150\n",
            "323/323 [==============================] - 0s 52us/sample - loss: 529.4760 - val_loss: 598.0148\n",
            "Epoch 92/150\n",
            "323/323 [==============================] - 0s 63us/sample - loss: 529.0132 - val_loss: 597.5187\n",
            "Epoch 93/150\n",
            "323/323 [==============================] - 0s 50us/sample - loss: 528.5539 - val_loss: 597.0282\n",
            "Epoch 94/150\n",
            "323/323 [==============================] - 0s 51us/sample - loss: 528.0967 - val_loss: 596.5329\n",
            "Epoch 95/150\n",
            "323/323 [==============================] - 0s 62us/sample - loss: 527.6335 - val_loss: 596.0419\n",
            "Epoch 96/150\n",
            "323/323 [==============================] - 0s 59us/sample - loss: 527.1741 - val_loss: 595.5444\n",
            "Epoch 97/150\n",
            "323/323 [==============================] - 0s 60us/sample - loss: 526.7168 - val_loss: 595.0550\n",
            "Epoch 98/150\n",
            "323/323 [==============================] - 0s 50us/sample - loss: 526.2604 - val_loss: 594.5704\n",
            "Epoch 99/150\n",
            "323/323 [==============================] - 0s 51us/sample - loss: 525.8074 - val_loss: 594.0836\n",
            "Epoch 100/150\n",
            "323/323 [==============================] - 0s 56us/sample - loss: 525.3613 - val_loss: 593.5986\n",
            "Epoch 101/150\n",
            "323/323 [==============================] - 0s 49us/sample - loss: 524.9050 - val_loss: 593.1085\n",
            "Epoch 102/150\n",
            "323/323 [==============================] - 0s 55us/sample - loss: 524.4477 - val_loss: 592.6269\n",
            "Epoch 103/150\n",
            "323/323 [==============================] - 0s 50us/sample - loss: 524.0066 - val_loss: 592.1474\n",
            "Epoch 104/150\n",
            "323/323 [==============================] - 0s 51us/sample - loss: 523.5603 - val_loss: 591.6678\n",
            "Epoch 105/150\n",
            "323/323 [==============================] - 0s 51us/sample - loss: 523.1098 - val_loss: 591.1984\n",
            "Epoch 106/150\n",
            "323/323 [==============================] - 0s 48us/sample - loss: 522.6819 - val_loss: 590.7259\n",
            "Epoch 107/150\n",
            "323/323 [==============================] - 0s 49us/sample - loss: 522.2360 - val_loss: 590.2518\n",
            "Epoch 108/150\n",
            "323/323 [==============================] - 0s 51us/sample - loss: 521.7994 - val_loss: 589.7827\n",
            "Epoch 109/150\n",
            "323/323 [==============================] - 0s 58us/sample - loss: 521.3641 - val_loss: 589.3126\n",
            "Epoch 110/150\n",
            "323/323 [==============================] - 0s 62us/sample - loss: 520.9278 - val_loss: 588.8382\n",
            "Epoch 111/150\n",
            "323/323 [==============================] - 0s 61us/sample - loss: 520.4742 - val_loss: 588.3506\n",
            "Epoch 112/150\n",
            "323/323 [==============================] - 0s 53us/sample - loss: 520.0306 - val_loss: 587.8752\n",
            "Epoch 113/150\n",
            "323/323 [==============================] - 0s 52us/sample - loss: 519.5838 - val_loss: 587.3995\n",
            "Epoch 114/150\n",
            "323/323 [==============================] - 0s 48us/sample - loss: 519.1420 - val_loss: 586.9145\n",
            "Epoch 115/150\n",
            "323/323 [==============================] - 0s 49us/sample - loss: 518.6911 - val_loss: 586.4350\n",
            "Epoch 116/150\n",
            "323/323 [==============================] - 0s 54us/sample - loss: 518.2359 - val_loss: 585.9384\n",
            "Epoch 117/150\n",
            "323/323 [==============================] - 0s 52us/sample - loss: 517.7803 - val_loss: 585.4595\n",
            "Epoch 118/150\n",
            "323/323 [==============================] - 0s 51us/sample - loss: 517.3332 - val_loss: 584.9841\n",
            "Epoch 119/150\n",
            "323/323 [==============================] - 0s 72us/sample - loss: 516.8945 - val_loss: 584.5063\n",
            "Epoch 120/150\n",
            "323/323 [==============================] - 0s 47us/sample - loss: 516.4524 - val_loss: 584.0280\n",
            "Epoch 121/150\n",
            "323/323 [==============================] - 0s 62us/sample - loss: 516.0149 - val_loss: 583.5632\n",
            "Epoch 122/150\n",
            "323/323 [==============================] - 0s 55us/sample - loss: 515.5782 - val_loss: 583.0924\n",
            "Epoch 123/150\n",
            "323/323 [==============================] - 0s 53us/sample - loss: 515.1314 - val_loss: 582.6004\n",
            "Epoch 124/150\n",
            "323/323 [==============================] - 0s 53us/sample - loss: 514.6765 - val_loss: 582.1188\n",
            "Epoch 125/150\n",
            "323/323 [==============================] - 0s 51us/sample - loss: 514.2308 - val_loss: 581.6445\n",
            "Epoch 126/150\n",
            "323/323 [==============================] - 0s 49us/sample - loss: 513.7903 - val_loss: 581.1651\n",
            "Epoch 127/150\n",
            "323/323 [==============================] - 0s 50us/sample - loss: 513.3406 - val_loss: 580.6879\n",
            "Epoch 128/150\n",
            "323/323 [==============================] - 0s 52us/sample - loss: 512.8989 - val_loss: 580.2121\n",
            "Epoch 129/150\n",
            "323/323 [==============================] - 0s 52us/sample - loss: 512.4580 - val_loss: 579.7382\n",
            "Epoch 130/150\n",
            "323/323 [==============================] - 0s 50us/sample - loss: 512.0188 - val_loss: 579.2703\n",
            "Epoch 131/150\n",
            "323/323 [==============================] - 0s 54us/sample - loss: 511.5845 - val_loss: 578.8034\n",
            "Epoch 132/150\n",
            "323/323 [==============================] - 0s 54us/sample - loss: 511.1523 - val_loss: 578.3467\n",
            "Epoch 133/150\n",
            "323/323 [==============================] - 0s 45us/sample - loss: 510.7256 - val_loss: 577.8748\n",
            "Epoch 134/150\n",
            "323/323 [==============================] - 0s 57us/sample - loss: 510.2850 - val_loss: 577.3968\n",
            "Epoch 135/150\n",
            "323/323 [==============================] - 0s 50us/sample - loss: 509.8439 - val_loss: 576.9287\n",
            "Epoch 136/150\n",
            "323/323 [==============================] - 0s 60us/sample - loss: 509.4083 - val_loss: 576.4605\n",
            "Epoch 137/150\n",
            "323/323 [==============================] - 0s 55us/sample - loss: 508.9751 - val_loss: 575.9966\n",
            "Epoch 138/150\n",
            "323/323 [==============================] - 0s 52us/sample - loss: 508.5478 - val_loss: 575.5333\n",
            "Epoch 139/150\n",
            "323/323 [==============================] - 0s 55us/sample - loss: 508.1116 - val_loss: 575.0725\n",
            "Epoch 140/150\n",
            "323/323 [==============================] - 0s 52us/sample - loss: 507.6845 - val_loss: 574.6065\n",
            "Epoch 141/150\n",
            "323/323 [==============================] - 0s 51us/sample - loss: 507.2548 - val_loss: 574.1448\n",
            "Epoch 142/150\n",
            "323/323 [==============================] - 0s 50us/sample - loss: 506.8197 - val_loss: 573.6698\n",
            "Epoch 143/150\n",
            "323/323 [==============================] - 0s 50us/sample - loss: 506.3775 - val_loss: 573.2021\n",
            "Epoch 144/150\n",
            "323/323 [==============================] - 0s 53us/sample - loss: 505.9453 - val_loss: 572.7323\n",
            "Epoch 145/150\n",
            "323/323 [==============================] - 0s 61us/sample - loss: 505.5117 - val_loss: 572.2693\n",
            "Epoch 146/150\n",
            "323/323 [==============================] - 0s 53us/sample - loss: 505.0823 - val_loss: 571.8052\n",
            "Epoch 147/150\n",
            "323/323 [==============================] - 0s 58us/sample - loss: 504.6504 - val_loss: 571.3388\n",
            "Epoch 148/150\n",
            "323/323 [==============================] - 0s 60us/sample - loss: 504.2142 - val_loss: 570.8669\n",
            "Epoch 149/150\n",
            "323/323 [==============================] - 0s 54us/sample - loss: 503.7756 - val_loss: 570.4014\n",
            "Epoch 150/150\n",
            "323/323 [==============================] - 0s 52us/sample - loss: 503.3404 - val_loss: 569.9275\n"
          ],
          "name": "stdout"
        }
      ]
    },
    {
      "cell_type": "code",
      "metadata": {
        "id": "EPjSn-uEYQdN",
        "colab_type": "code",
        "colab": {}
      },
      "source": [
        "# Prediction\n",
        "predictions = model.predict(X_train)"
      ],
      "execution_count": 0,
      "outputs": []
    },
    {
      "cell_type": "code",
      "metadata": {
        "id": "Yh2HA7DaYd-E",
        "colab_type": "code",
        "colab": {
          "base_uri": "https://localhost:8080/",
          "height": 34
        },
        "outputId": "f5df9b54-2c6f-4164-9965-28b3c24a2687"
      },
      "source": [
        "# Training set error for NN (using SKL)\n",
        "mean_squared_error(y_train, predictions)"
      ],
      "execution_count": 102,
      "outputs": [
        {
          "output_type": "execute_result",
          "data": {
            "text/plain": [
              "516.4847369472426"
            ]
          },
          "metadata": {
            "tags": []
          },
          "execution_count": 102
        }
      ]
    },
    {
      "cell_type": "code",
      "metadata": {
        "id": "UAH4GICgam61",
        "colab_type": "code",
        "colab": {
          "base_uri": "https://localhost:8080/",
          "height": 295
        },
        "outputId": "87665a75-c684-4344-ea0a-c83c8292bdbd"
      },
      "source": [
        "\n",
        "# Plot training & validation loss values\n",
        "plt.plot(history.history['loss'])\n",
        "plt.plot(history.history['val_loss'])\n",
        "plt.title('Model loss')\n",
        "plt.ylabel('Loss')\n",
        "plt.xlabel('Epoch')\n",
        "plt.legend(['Train', 'Validation'], loc='best')\n",
        "plt.show()"
      ],
      "execution_count": 104,
      "outputs": [
        {
          "output_type": "display_data",
          "data": {
            "image/png": "[encoded data removed]",
            "text/plain": [
              "<Figure size 432x288 with 1 Axes>"
            ]
          },
          "metadata": {
            "tags": []
          }
        }
      ]
    },
    {
      "cell_type": "markdown",
      "metadata": {
        "id": "_NL-1cUOrhRU",
        "colab_type": "text"
      },
      "source": [
        "### Part 2 - Feature Engineering "
      ]
    },
    {
      "cell_type": "code",
      "metadata": {
        "id": "n6pFshScrhRV",
        "colab_type": "code",
        "colab": {},
        "outputId": "b85d0a3b-73e8-4fc1-a2b8-9f3a036ffce3"
      },
      "source": [
        "# Adding two new hidden layers\n",
        "logdir = os.path.join(\"logs\", datetime.datetime.now().strftime(\"%Y%m%d-%H%M%S\"))\n",
        "tensorboard_callback = tf.keras.callbacks.TensorBoard(logdir, histogram_freq=1)\n",
        "\n",
        "model = Sequential([\n",
        "    Flatten(),\n",
        "    Dense(1280, input_dim=784, activation='relu'),\n",
        "    Dense(1280, activation='relu'),\n",
        "    Dense(10, activation='softmax')\n",
        "])\n",
        "\n",
        "model.compile(loss='categorical_crossentropy', optimizer='adam', metrics=['accuracy'])\n",
        "\n",
        "model.fit(X_train, y_train, epochs=10, \n",
        "          validation_data=(X_test,y_test),\n",
        "          callbacks=[tensorboard_callback])"
      ],
      "execution_count": 0,
      "outputs": [
        {
          "output_type": "stream",
          "text": [
            "Train on 404 samples, validate on 102 samples\n",
            "Epoch 1/10\n",
            "404/404 [==============================] - 1s 2ms/sample - loss: 589.8214 - accuracy: 0.5322 - val_loss: 851.2456 - val_accuracy: 0.0000e+00\n",
            "Epoch 2/10\n",
            "404/404 [==============================] - 0s 912us/sample - loss: 1310.9109 - accuracy: 0.0000e+00 - val_loss: 2223.1177 - val_accuracy: 0.0000e+00\n",
            "Epoch 3/10\n",
            "404/404 [==============================] - 0s 939us/sample - loss: 3241.2104 - accuracy: 0.0000e+00 - val_loss: 5084.7892 - val_accuracy: 0.0000e+00\n",
            "Epoch 4/10\n",
            "404/404 [==============================] - 0s 915us/sample - loss: 6770.8303 - accuracy: 0.0000e+00 - val_loss: 9727.1218 - val_accuracy: 0.0000e+00\n",
            "Epoch 5/10\n",
            "404/404 [==============================] - 0s 932us/sample - loss: 12066.0125 - accuracy: 0.0000e+00 - val_loss: 16429.5852 - val_accuracy: 0.0000e+00\n",
            "Epoch 6/10\n",
            "404/404 [==============================] - 0s 920us/sample - loss: 19602.0678 - accuracy: 0.0000e+00 - val_loss: 25592.7835 - val_accuracy: 0.0000e+00\n",
            "Epoch 7/10\n",
            "404/404 [==============================] - 0s 882us/sample - loss: 29584.1494 - accuracy: 0.0000e+00 - val_loss: 37403.7276 - val_accuracy: 0.0000e+00\n",
            "Epoch 8/10\n",
            "404/404 [==============================] - 0s 893us/sample - loss: 42208.8849 - accuracy: 0.0000e+00 - val_loss: 52028.7232 - val_accuracy: 0.0000e+00\n",
            "Epoch 9/10\n",
            "404/404 [==============================] - 0s 923us/sample - loss: 57575.5613 - accuracy: 0.0000e+00 - val_loss: 69500.5729 - val_accuracy: 0.0000e+00\n",
            "Epoch 10/10\n",
            "404/404 [==============================] - 0s 1ms/sample - loss: 75625.1976 - accuracy: 0.0000e+00 - val_loss: 89884.7894 - val_accuracy: 0.0000e+00\n"
          ],
          "name": "stdout"
        },
        {
          "output_type": "execute_result",
          "data": {
            "text/plain": [
              "<tensorflow.python.keras.callbacks.History at 0x7f9658507e48>"
            ]
          },
          "metadata": {
            "tags": []
          },
          "execution_count": 23
        }
      ]
    },
    {
      "cell_type": "markdown",
      "metadata": {
        "id": "2GrCFvA8bVBq",
        "colab_type": "text"
      },
      "source": [
        "# Linear Regression Model"
      ]
    },
    {
      "cell_type": "code",
      "metadata": {
        "id": "3Abx1tddbQcE",
        "colab_type": "code",
        "colab": {}
      },
      "source": [
        "lr_model = LinearRegression()"
      ],
      "execution_count": 0,
      "outputs": []
    },
    {
      "cell_type": "code",
      "metadata": {
        "id": "MrBZgIyXbQir",
        "colab_type": "code",
        "colab": {
          "base_uri": "https://localhost:8080/",
          "height": 34
        },
        "outputId": "3d49c382-f195-4fa2-f477-5b4ba330ab22"
      },
      "source": [
        "lr_model.fit(X_train, y_train)"
      ],
      "execution_count": 106,
      "outputs": [
        {
          "output_type": "execute_result",
          "data": {
            "text/plain": [
              "LinearRegression(copy_X=True, fit_intercept=True, n_jobs=None, normalize=False)"
            ]
          },
          "metadata": {
            "tags": []
          },
          "execution_count": 106
        }
      ]
    },
    {
      "cell_type": "code",
      "metadata": {
        "id": "e7WXDmsqbQkq",
        "colab_type": "code",
        "colab": {}
      },
      "source": [
        "predictions_lr = lr_model.predict(X_train)"
      ],
      "execution_count": 0,
      "outputs": []
    },
    {
      "cell_type": "code",
      "metadata": {
        "id": "lzdOZnR6bQoz",
        "colab_type": "code",
        "colab": {
          "base_uri": "https://localhost:8080/",
          "height": 34
        },
        "outputId": "aad7393d-5e5d-4f6b-cfd7-b28c139183ab"
      },
      "source": [
        "# Linear regression training set error.\n",
        "mean_squared_error(y_train, predictions_lr)"
      ],
      "execution_count": 108,
      "outputs": [
        {
          "output_type": "execute_result",
          "data": {
            "text/plain": [
              "22.77423909605731"
            ]
          },
          "metadata": {
            "tags": []
          },
          "execution_count": 108
        }
      ]
    },
    {
      "cell_type": "markdown",
      "metadata": {
        "colab_type": "text",
        "id": "SfcFnOONyuNm"
      },
      "source": [
        "## Use the Keras Library to build an image recognition network using the Fashion-MNIST dataset (also comes with keras)\n",
        "\n",
        "- Load and preprocess the image data similar to how we preprocessed the MNIST data in class.\n",
        "- Make sure to one-hot encode your category labels\n",
        "- The number of nodes in your output layer should equal the number of classes you want to predict for Fashion-MNIST.\n",
        "- Try different hyperparameters. What is the highest accuracy that you are able to achieve.\n",
        "- Use the history object that is returned from model.fit to make graphs of the model's loss or train/validation accuracies by epoch. \n",
        "- Remember that neural networks fall prey to randomness so you may need to run your model multiple times (or use Cross Validation) in order to tell if a change to a hyperparameter is truly producing better results."
      ]
    },
    {
      "cell_type": "code",
      "metadata": {
        "colab_type": "code",
        "id": "szi6-IpuzaH1",
        "colab": {}
      },
      "source": [
        "##### Your Code Here #####"
      ],
      "execution_count": 0,
      "outputs": []
    },
    {
      "cell_type": "code",
      "metadata": {
        "id": "uTITRq2Ebw_f",
        "colab_type": "code",
        "colab": {
          "base_uri": "https://localhost:8080/",
          "height": 180
        },
        "outputId": "70516249-3a02-4048-fd6e-41cfbf66c85a"
      },
      "source": [
        "# Load data.\n",
        "fashion_mnist = keras.datasets.fashion_mnist\n",
        "(X_train, y_train), (X_test, y_test) = fashion_mnist.load_data()"
      ],
      "execution_count": 110,
      "outputs": [
        {
          "output_type": "stream",
          "text": [
            "Downloading data from https://storage.googleapis.com/tensorflow/tf-keras-datasets/train-labels-idx1-ubyte.gz\n",
            "32768/29515 [=================================] - 0s 0us/step\n",
            "Downloading data from https://storage.googleapis.com/tensorflow/tf-keras-datasets/train-images-idx3-ubyte.gz\n",
            "26427392/26421880 [==============================] - 0s 0us/step\n",
            "Downloading data from https://storage.googleapis.com/tensorflow/tf-keras-datasets/t10k-labels-idx1-ubyte.gz\n",
            "8192/5148 [===============================================] - 0s 0us/step\n",
            "Downloading data from https://storage.googleapis.com/tensorflow/tf-keras-datasets/t10k-images-idx3-ubyte.gz\n",
            "4423680/4422102 [==============================] - 0s 0us/step\n"
          ],
          "name": "stdout"
        }
      ]
    },
    {
      "cell_type": "code",
      "metadata": {
        "id": "qJrHSgT0bxDm",
        "colab_type": "code",
        "colab": {}
      },
      "source": [
        "class_names = ['T-shirt/top', 'Trouser', 'Pullover', 'Dress', 'Coat',\n",
        "               'Sandal', 'Shirt', 'Sneaker', 'Bag', 'Ankle boot']"
      ],
      "execution_count": 0,
      "outputs": []
    },
    {
      "cell_type": "code",
      "metadata": {
        "id": "_ihCWwulbxGY",
        "colab_type": "code",
        "colab": {
          "base_uri": "https://localhost:8080/",
          "height": 589
        },
        "outputId": "9da9e340-f0f2-4ecc-8353-1b499d4552a7"
      },
      "source": [
        "plt.figure(figsize=(10,10))\n",
        "for i in range(25):\n",
        "    plt.subplot(5,5,i+1)\n",
        "    plt.xticks([])\n",
        "    plt.yticks([])\n",
        "    plt.grid(False)\n",
        "    plt.imshow(X_train[i], cmap=plt.cm.binary)\n",
        "    plt.xlabel(class_names[y_train[i]])\n",
        "plt.show()"
      ],
      "execution_count": 113,
      "outputs": [
        {
          "output_type": "display_data",
          "data": {
            "image/png": "[encoded data removed]",
            "text/plain": [
              "<Figure size 720x720 with 25 Axes>"
            ]
          },
          "metadata": {
            "tags": []
          }
        }
      ]
    },
    {
      "cell_type": "markdown",
      "metadata": {
        "colab_type": "text",
        "id": "zv_3xNMjzdLI"
      },
      "source": [
        "## Stretch Goals:\n",
        "\n",
        "- Use Hyperparameter Tuning to make the accuracy of your models as high as possible. (error as low as possible)\n",
        "- Use Cross Validation techniques to get more consistent results with your model.\n",
        "- Use GridSearchCV to try different combinations of hyperparameters. \n",
        "- Start looking into other types of Keras layers for CNNs and RNNs maybe try and build a CNN model for fashion-MNIST to see how the results compare."
      ]
    }
  ]
}